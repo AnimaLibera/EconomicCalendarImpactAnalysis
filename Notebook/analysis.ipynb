{
 "cells": [
  {
   "cell_type": "markdown",
   "metadata": {},
   "source": [
    "<h1>Impact Analysis</h1>"
   ]
  },
  {
   "cell_type": "markdown",
   "metadata": {},
   "source": [
    "<h3>Importpath</h3>\n",
    "\n",
    "Add Projectfolder to Importpath"
   ]
  },
  {
   "cell_type": "code",
   "execution_count": 1,
   "metadata": {},
   "outputs": [
    {
     "data": {
      "text/plain": [
       "['/home/avatar/Dokumente/Projekte/Python/EconomicCalendarImpactAnalysis/Code',\n",
       " '/home/avatar/Dokumente/Projekte/Python/EconomicCalendarImpactAnalysis/Notebook',\n",
       " '/home/avatar/.pyenv/versions/3.10.13/lib/python310.zip',\n",
       " '/home/avatar/.pyenv/versions/3.10.13/lib/python3.10',\n",
       " '/home/avatar/.pyenv/versions/3.10.13/lib/python3.10/lib-dynload',\n",
       " '',\n",
       " '/home/avatar/.local/lib/python3.10/site-packages',\n",
       " '/home/avatar/.pyenv/versions/3.10.13/lib/python3.10/site-packages']"
      ]
     },
     "execution_count": 1,
     "metadata": {},
     "output_type": "execute_result"
    }
   ],
   "source": [
    "import sys\n",
    "import os\n",
    "cwd = os.path.abspath(\".\")\n",
    "sys.path.insert(0, cwd.replace(\"Notebook\", \"Code\"))\n",
    "\n",
    "sys.path"
   ]
  },
  {
   "cell_type": "markdown",
   "metadata": {},
   "source": [
    "<h3>Imports</h3>"
   ]
  },
  {
   "cell_type": "code",
   "execution_count": 2,
   "metadata": {},
   "outputs": [],
   "source": [
    "import analyst as al\n",
    "import plotly.express as px"
   ]
  },
  {
   "cell_type": "markdown",
   "metadata": {},
   "source": [
    "<h3>Impact Analysis</h3>"
   ]
  },
  {
   "cell_type": "markdown",
   "metadata": {},
   "source": [
    "Initiate Analyst and make Impact Analysis Frame for futher analysis"
   ]
  },
  {
   "cell_type": "code",
   "execution_count": 3,
   "metadata": {},
   "outputs": [],
   "source": [
    "analyst = al.Analyst()\n",
    "#orginal_frame = analyst.new_impact_analysis()\n",
    "#clean_frame = analyst.postprocess_impact_frame(orginal_frame)"
   ]
  },
  {
   "cell_type": "code",
   "execution_count": null,
   "metadata": {},
   "outputs": [],
   "source": [
    "group_frame = clean_frame.groupby(\"event\")[\"first impact\"].count()\n",
    "\n",
    "group_frame"
   ]
  },
  {
   "cell_type": "code",
   "execution_count": null,
   "metadata": {},
   "outputs": [],
   "source": [
    "grouped = clean_frame.groupby(\"event\")\n",
    "group = grouped.get_group(\"PPI MoM\")\n",
    "\n",
    "group"
   ]
  },
  {
   "cell_type": "code",
   "execution_count": null,
   "metadata": {},
   "outputs": [],
   "source": [
    "fig = px.scatter(group , x=\"deviation\", y=[\"original impact\", \"first impact\", \"second impact\", \"third impact\"])\n",
    "fig.show()"
   ]
  },
  {
   "cell_type": "markdown",
   "metadata": {},
   "source": [
    "<h3>Regression Analysis</h3>"
   ]
  },
  {
   "cell_type": "code",
   "execution_count": null,
   "metadata": {},
   "outputs": [],
   "source": [
    "from sklearn.linear_model import LinearRegression"
   ]
  },
  {
   "cell_type": "code",
   "execution_count": null,
   "metadata": {},
   "outputs": [],
   "source": [
    "model = LinearRegression()\n",
    "print(analyst.regression_analysis(model, group[\"deviation\"], group[\"first impact\"]))"
   ]
  },
  {
   "cell_type": "markdown",
   "metadata": {},
   "source": [
    "<h3>Regression Frame</h3>"
   ]
  },
  {
   "cell_type": "code",
   "execution_count": null,
   "metadata": {},
   "outputs": [],
   "source": [
    "from sklearn.linear_model import LinearRegression\n",
    "import pandas as pd\n",
    "import analyst as al"
   ]
  },
  {
   "cell_type": "code",
   "execution_count": null,
   "metadata": {},
   "outputs": [],
   "source": [
    "analyst = al.Analyst()\n",
    "raw_impact_frame = analyst.new_impact_analysis()\n",
    "impact_frame = analyst.postprocess_impact_frame(raw_impact_frame)\n",
    "reg_frame = analyst.make_regression_frame(impact_frame)\n",
    "\n",
    "reg_frame"
   ]
  },
  {
   "cell_type": "code",
   "execution_count": null,
   "metadata": {},
   "outputs": [],
   "source": [
    "analyst = al.Analyst()\n",
    "raw_impact_frame = analyst.new_impact_analysis()\n",
    "raw_impact_frame\n"
   ]
  }
 ],
 "metadata": {
  "kernelspec": {
   "display_name": "Python 3",
   "language": "python",
   "name": "python3"
  },
  "language_info": {
   "codemirror_mode": {
    "name": "ipython",
    "version": 3
   },
   "file_extension": ".py",
   "mimetype": "text/x-python",
   "name": "python",
   "nbconvert_exporter": "python",
   "pygments_lexer": "ipython3",
   "version": "3.10.13"
  }
 },
 "nbformat": 4,
 "nbformat_minor": 2
}
