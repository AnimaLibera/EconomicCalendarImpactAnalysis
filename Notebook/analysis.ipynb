{
 "cells": [
  {
   "cell_type": "markdown",
   "metadata": {},
   "source": [
    "<h1>Impact Analysis</h1>"
   ]
  },
  {
   "cell_type": "markdown",
   "metadata": {},
   "source": [
    "<h3>Importpath</h3>\n",
    "\n",
    "Add Projectfolder to Importpath"
   ]
  },
  {
   "cell_type": "code",
   "execution_count": 1,
   "metadata": {},
   "outputs": [
    {
     "data": {
      "text/plain": [
       "['/home/avatar/Dokumente/Projekte/Python/EconomicCalendarImpactAnalysis/Code',\n",
       " '/home/avatar/Dokumente/Projekte/Python/EconomicCalendarImpactAnalysis/Notebook',\n",
       " '/home/avatar/.pyenv/versions/3.10.13/lib/python310.zip',\n",
       " '/home/avatar/.pyenv/versions/3.10.13/lib/python3.10',\n",
       " '/home/avatar/.pyenv/versions/3.10.13/lib/python3.10/lib-dynload',\n",
       " '',\n",
       " '/home/avatar/.local/lib/python3.10/site-packages',\n",
       " '/home/avatar/.pyenv/versions/3.10.13/lib/python3.10/site-packages']"
      ]
     },
     "execution_count": 1,
     "metadata": {},
     "output_type": "execute_result"
    }
   ],
   "source": [
    "import sys\n",
    "import os\n",
    "cwd = os.path.abspath(\".\")\n",
    "sys.path.insert(0, cwd.replace(\"Notebook\", \"Code\"))\n",
    "\n",
    "sys.path"
   ]
  },
  {
   "cell_type": "markdown",
   "metadata": {},
   "source": [
    "<h3>Imports</h3>"
   ]
  },
  {
   "cell_type": "code",
   "execution_count": null,
   "metadata": {},
   "outputs": [],
   "source": [
    "import analyst as al\n",
    "import plotly.express as px"
   ]
  },
  {
   "cell_type": "markdown",
   "metadata": {},
   "source": [
    "<h3>Impact Analysis</h3>"
   ]
  },
  {
   "cell_type": "markdown",
   "metadata": {},
   "source": [
    "Initiate Analyst and make Impact Analysis Frame for futher analysis"
   ]
  },
  {
   "cell_type": "code",
   "execution_count": null,
   "metadata": {},
   "outputs": [],
   "source": [
    "analyst = al.Analyst()\n",
    "orginal_frame = analyst.new_impact_analysis()\n",
    "clean_frame = analyst.postprocess_impact_frame(orginal_frame)"
   ]
  },
  {
   "cell_type": "code",
   "execution_count": null,
   "metadata": {},
   "outputs": [],
   "source": [
    "group_frame = clean_frame.groupby(\"event\")[\"first impact\"].count()\n",
    "\n",
    "group_frame"
   ]
  },
  {
   "cell_type": "code",
   "execution_count": null,
   "metadata": {},
   "outputs": [],
   "source": [
    "grouped = clean_frame.groupby(\"event\")\n",
    "group = grouped.get_group(\"PPI MoM\")\n",
    "\n",
    "group"
   ]
  },
  {
   "cell_type": "code",
   "execution_count": null,
   "metadata": {},
   "outputs": [],
   "source": [
    "fig = px.scatter(group , x=\"deviation\", y=[\"original impact\", \"first impact\", \"second impact\", \"third impact\"])\n",
    "fig.show()"
   ]
  },
  {
   "cell_type": "markdown",
   "metadata": {},
   "source": [
    "<h3>Regression Analysis</h3>"
   ]
  },
  {
   "cell_type": "code",
   "execution_count": null,
   "metadata": {},
   "outputs": [],
   "source": [
    "from sklearn.linear_model import LinearRegression"
   ]
  },
  {
   "cell_type": "code",
   "execution_count": null,
   "metadata": {},
   "outputs": [],
   "source": [
    "model = LinearRegression()\n",
    "print(analyst.regression_analysis(model, group[\"deviation\"], group[\"first impact\"]))"
   ]
  },
  {
   "cell_type": "markdown",
   "metadata": {},
   "source": [
    "<h3>Regression Frame</h3>"
   ]
  },
  {
   "cell_type": "code",
   "execution_count": 2,
   "metadata": {},
   "outputs": [],
   "source": [
    "from sklearn.linear_model import LinearRegression\n",
    "import pandas as pd\n",
    "import analyst as al"
   ]
  },
  {
   "cell_type": "code",
   "execution_count": 3,
   "metadata": {},
   "outputs": [
    {
     "data": {
      "text/html": [
       "<div>\n",
       "<style scoped>\n",
       "    .dataframe tbody tr th:only-of-type {\n",
       "        vertical-align: middle;\n",
       "    }\n",
       "\n",
       "    .dataframe tbody tr th {\n",
       "        vertical-align: top;\n",
       "    }\n",
       "\n",
       "    .dataframe thead th {\n",
       "        text-align: right;\n",
       "    }\n",
       "</style>\n",
       "<table border=\"1\" class=\"dataframe\">\n",
       "  <thead>\n",
       "    <tr style=\"text-align: right;\">\n",
       "      <th></th>\n",
       "      <th>Count</th>\n",
       "      <th>CoD Original Impact</th>\n",
       "      <th>CoD First Impact</th>\n",
       "      <th>CoD Second Impact</th>\n",
       "      <th>CoD Third Impact</th>\n",
       "    </tr>\n",
       "  </thead>\n",
       "  <tbody>\n",
       "    <tr>\n",
       "      <th>Goods Trade Balance</th>\n",
       "      <td>4</td>\n",
       "      <td>0.064599</td>\n",
       "      <td>0.451591</td>\n",
       "      <td>0.471102</td>\n",
       "      <td>0.034062</td>\n",
       "    </tr>\n",
       "    <tr>\n",
       "      <th>Michigan Consumer Sentiment</th>\n",
       "      <td>24</td>\n",
       "      <td>0.016725</td>\n",
       "      <td>0.001072</td>\n",
       "      <td>0.003432</td>\n",
       "      <td>0.005070</td>\n",
       "    </tr>\n",
       "    <tr>\n",
       "      <th>PCE Price Index YoY</th>\n",
       "      <td>4</td>\n",
       "      <td>0.332692</td>\n",
       "      <td>0.290630</td>\n",
       "      <td>0.187120</td>\n",
       "      <td>0.589639</td>\n",
       "    </tr>\n",
       "    <tr>\n",
       "      <th>GDP Growth Rate QoQ</th>\n",
       "      <td>6</td>\n",
       "      <td>0.340648</td>\n",
       "      <td>0.047988</td>\n",
       "      <td>0.055200</td>\n",
       "      <td>0.001593</td>\n",
       "    </tr>\n",
       "    <tr>\n",
       "      <th>CB Consumer Confidence</th>\n",
       "      <td>12</td>\n",
       "      <td>0.069277</td>\n",
       "      <td>0.054480</td>\n",
       "      <td>0.012227</td>\n",
       "      <td>0.221341</td>\n",
       "    </tr>\n",
       "    <tr>\n",
       "      <th>Building Permits</th>\n",
       "      <td>11</td>\n",
       "      <td>0.296951</td>\n",
       "      <td>0.130190</td>\n",
       "      <td>0.045896</td>\n",
       "      <td>0.127972</td>\n",
       "    </tr>\n",
       "    <tr>\n",
       "      <th>Retail Sales MoM</th>\n",
       "      <td>8</td>\n",
       "      <td>0.806975</td>\n",
       "      <td>0.052305</td>\n",
       "      <td>0.218188</td>\n",
       "      <td>0.007510</td>\n",
       "    </tr>\n",
       "    <tr>\n",
       "      <th>FOMC Economic Projections</th>\n",
       "      <td>3</td>\n",
       "      <td>0.000000</td>\n",
       "      <td>0.000000</td>\n",
       "      <td>0.000000</td>\n",
       "      <td>0.000000</td>\n",
       "    </tr>\n",
       "    <tr>\n",
       "      <th>PPI MoM</th>\n",
       "      <td>11</td>\n",
       "      <td>0.019162</td>\n",
       "      <td>0.340956</td>\n",
       "      <td>0.356386</td>\n",
       "      <td>0.042985</td>\n",
       "    </tr>\n",
       "    <tr>\n",
       "      <th>Core Inflation Rate YoY</th>\n",
       "      <td>7</td>\n",
       "      <td>0.071494</td>\n",
       "      <td>0.125419</td>\n",
       "      <td>0.151698</td>\n",
       "      <td>0.096713</td>\n",
       "    </tr>\n",
       "    <tr>\n",
       "      <th>Unemployment Rate</th>\n",
       "      <td>6</td>\n",
       "      <td>0.321542</td>\n",
       "      <td>0.040809</td>\n",
       "      <td>0.039828</td>\n",
       "      <td>0.114923</td>\n",
       "    </tr>\n",
       "    <tr>\n",
       "      <th>ISM Services PMI</th>\n",
       "      <td>8</td>\n",
       "      <td>0.449107</td>\n",
       "      <td>0.042270</td>\n",
       "      <td>0.128927</td>\n",
       "      <td>0.007974</td>\n",
       "    </tr>\n",
       "    <tr>\n",
       "      <th>ISM Manufacturing PMI</th>\n",
       "      <td>12</td>\n",
       "      <td>0.039533</td>\n",
       "      <td>0.030223</td>\n",
       "      <td>0.005293</td>\n",
       "      <td>0.141952</td>\n",
       "    </tr>\n",
       "    <tr>\n",
       "      <th>Core PCE Price Index YoY</th>\n",
       "      <td>5</td>\n",
       "      <td>0.362012</td>\n",
       "      <td>0.171894</td>\n",
       "      <td>0.347842</td>\n",
       "      <td>0.002868</td>\n",
       "    </tr>\n",
       "    <tr>\n",
       "      <th>Durable Goods Orders MoM</th>\n",
       "      <td>9</td>\n",
       "      <td>0.222387</td>\n",
       "      <td>0.005191</td>\n",
       "      <td>0.005976</td>\n",
       "      <td>0.015138</td>\n",
       "    </tr>\n",
       "    <tr>\n",
       "      <th>Non Farm Payrolls</th>\n",
       "      <td>7</td>\n",
       "      <td>0.133903</td>\n",
       "      <td>0.013707</td>\n",
       "      <td>0.001472</td>\n",
       "      <td>0.129947</td>\n",
       "    </tr>\n",
       "    <tr>\n",
       "      <th>Fed Interest Rate Decision</th>\n",
       "      <td>5</td>\n",
       "      <td>0.000000</td>\n",
       "      <td>0.000000</td>\n",
       "      <td>0.000000</td>\n",
       "      <td>0.000000</td>\n",
       "    </tr>\n",
       "    <tr>\n",
       "      <th>Personal Income MoM</th>\n",
       "      <td>2</td>\n",
       "      <td>1.000000</td>\n",
       "      <td>1.000000</td>\n",
       "      <td>1.000000</td>\n",
       "      <td>1.000000</td>\n",
       "    </tr>\n",
       "    <tr>\n",
       "      <th>Inflation Rate YoY</th>\n",
       "      <td>8</td>\n",
       "      <td>0.420034</td>\n",
       "      <td>0.000599</td>\n",
       "      <td>0.382636</td>\n",
       "      <td>0.447041</td>\n",
       "    </tr>\n",
       "    <tr>\n",
       "      <th>GDP Growth Rate QoQ Adv</th>\n",
       "      <td>3</td>\n",
       "      <td>0.105178</td>\n",
       "      <td>0.039434</td>\n",
       "      <td>0.000008</td>\n",
       "      <td>0.877185</td>\n",
       "    </tr>\n",
       "    <tr>\n",
       "      <th>ISM Non-Manufacturing PMI</th>\n",
       "      <td>4</td>\n",
       "      <td>0.950307</td>\n",
       "      <td>0.933038</td>\n",
       "      <td>0.968566</td>\n",
       "      <td>0.006641</td>\n",
       "    </tr>\n",
       "  </tbody>\n",
       "</table>\n",
       "</div>"
      ],
      "text/plain": [
       "                             Count  CoD Original Impact  CoD First Impact  \\\n",
       "Goods Trade Balance              4             0.064599          0.451591   \n",
       "Michigan Consumer Sentiment     24             0.016725          0.001072   \n",
       "PCE Price Index YoY              4             0.332692          0.290630   \n",
       "GDP Growth Rate QoQ              6             0.340648          0.047988   \n",
       "CB Consumer Confidence          12             0.069277          0.054480   \n",
       "Building Permits                11             0.296951          0.130190   \n",
       "Retail Sales MoM                 8             0.806975          0.052305   \n",
       "FOMC Economic Projections        3             0.000000          0.000000   \n",
       "PPI MoM                         11             0.019162          0.340956   \n",
       "Core Inflation Rate YoY          7             0.071494          0.125419   \n",
       "Unemployment Rate                6             0.321542          0.040809   \n",
       "ISM Services PMI                 8             0.449107          0.042270   \n",
       "ISM Manufacturing PMI           12             0.039533          0.030223   \n",
       "Core PCE Price Index YoY         5             0.362012          0.171894   \n",
       "Durable Goods Orders MoM         9             0.222387          0.005191   \n",
       "Non Farm Payrolls                7             0.133903          0.013707   \n",
       "Fed Interest Rate Decision       5             0.000000          0.000000   \n",
       "Personal Income MoM              2             1.000000          1.000000   \n",
       "Inflation Rate YoY               8             0.420034          0.000599   \n",
       "GDP Growth Rate QoQ Adv          3             0.105178          0.039434   \n",
       "ISM Non-Manufacturing PMI        4             0.950307          0.933038   \n",
       "\n",
       "                             CoD Second Impact  CoD Third Impact  \n",
       "Goods Trade Balance                   0.471102          0.034062  \n",
       "Michigan Consumer Sentiment           0.003432          0.005070  \n",
       "PCE Price Index YoY                   0.187120          0.589639  \n",
       "GDP Growth Rate QoQ                   0.055200          0.001593  \n",
       "CB Consumer Confidence                0.012227          0.221341  \n",
       "Building Permits                      0.045896          0.127972  \n",
       "Retail Sales MoM                      0.218188          0.007510  \n",
       "FOMC Economic Projections             0.000000          0.000000  \n",
       "PPI MoM                               0.356386          0.042985  \n",
       "Core Inflation Rate YoY               0.151698          0.096713  \n",
       "Unemployment Rate                     0.039828          0.114923  \n",
       "ISM Services PMI                      0.128927          0.007974  \n",
       "ISM Manufacturing PMI                 0.005293          0.141952  \n",
       "Core PCE Price Index YoY              0.347842          0.002868  \n",
       "Durable Goods Orders MoM              0.005976          0.015138  \n",
       "Non Farm Payrolls                     0.001472          0.129947  \n",
       "Fed Interest Rate Decision            0.000000          0.000000  \n",
       "Personal Income MoM                   1.000000          1.000000  \n",
       "Inflation Rate YoY                    0.382636          0.447041  \n",
       "GDP Growth Rate QoQ Adv               0.000008          0.877185  \n",
       "ISM Non-Manufacturing PMI             0.968566          0.006641  "
      ]
     },
     "execution_count": 3,
     "metadata": {},
     "output_type": "execute_result"
    }
   ],
   "source": [
    "analyst = al.Analyst()\n",
    "raw_impact_frame = analyst.new_impact_analysis()\n",
    "impact_frame = analyst.postprocess_impact_frame(raw_impact_frame)\n",
    "reg_frame = analyst.make_regression_frame(impact_frame)\n",
    "\n",
    "reg_frame"
   ]
  }
 ],
 "metadata": {
  "kernelspec": {
   "display_name": "Python 3",
   "language": "python",
   "name": "python3"
  },
  "language_info": {
   "codemirror_mode": {
    "name": "ipython",
    "version": 3
   },
   "file_extension": ".py",
   "mimetype": "text/x-python",
   "name": "python",
   "nbconvert_exporter": "python",
   "pygments_lexer": "ipython3",
   "version": "3.10.13"
  }
 },
 "nbformat": 4,
 "nbformat_minor": 2
}
