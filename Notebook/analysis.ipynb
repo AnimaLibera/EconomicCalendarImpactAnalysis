{
 "cells": [
  {
   "cell_type": "markdown",
   "metadata": {},
   "source": [
    "<h1>Impact Analysis</h1>"
   ]
  },
  {
   "cell_type": "markdown",
   "metadata": {},
   "source": [
    "<h3>Importpath</h3>\n",
    "\n",
    "Add Projectfolder to Importpath"
   ]
  },
  {
   "cell_type": "code",
   "execution_count": 1,
   "metadata": {},
   "outputs": [
    {
     "data": {
      "text/plain": [
       "['/home/avatar/Dokumente/Projekte/Python/EconomicCalendarImpactAnalysis/Code',\n",
       " '/home/avatar/Dokumente/Projekte/Python/EconomicCalendarImpactAnalysis/Notebook',\n",
       " '/home/avatar/.pyenv/versions/3.10.13/lib/python310.zip',\n",
       " '/home/avatar/.pyenv/versions/3.10.13/lib/python3.10',\n",
       " '/home/avatar/.pyenv/versions/3.10.13/lib/python3.10/lib-dynload',\n",
       " '',\n",
       " '/home/avatar/.local/lib/python3.10/site-packages',\n",
       " '/home/avatar/.pyenv/versions/3.10.13/lib/python3.10/site-packages']"
      ]
     },
     "execution_count": 1,
     "metadata": {},
     "output_type": "execute_result"
    }
   ],
   "source": [
    "import sys\n",
    "import os\n",
    "cwd = os.path.abspath(\".\")\n",
    "sys.path.insert(0, cwd.replace(\"Notebook\", \"Code\"))\n",
    "\n",
    "sys.path"
   ]
  },
  {
   "cell_type": "markdown",
   "metadata": {},
   "source": [
    "<h3>Imports</h3>"
   ]
  },
  {
   "cell_type": "code",
   "execution_count": 2,
   "metadata": {},
   "outputs": [],
   "source": [
    "import analyst as al\n",
    "import plotly.express as px"
   ]
  },
  {
   "cell_type": "markdown",
   "metadata": {},
   "source": [
    "<h3>Impact Analysis</h3>"
   ]
  },
  {
   "cell_type": "markdown",
   "metadata": {},
   "source": [
    "Initiate Analyst and make Impact Analysis Frame for futher analysis"
   ]
  },
  {
   "cell_type": "code",
   "execution_count": 3,
   "metadata": {},
   "outputs": [],
   "source": [
    "analyst = al.Analyst()\n",
    "frame = analyst.new_impact_analysis()"
   ]
  },
  {
   "cell_type": "code",
   "execution_count": 4,
   "metadata": {},
   "outputs": [
    {
     "data": {
      "text/plain": [
       "event\n",
       "Building Permits                            11\n",
       "CB Consumer Confidence                      12\n",
       "Closed-door Fed Emergency Meeting            1\n",
       "Core Inflation Rate YoY                      7\n",
       "Core PCE Price Index YoY                     5\n",
       "Durable Goods Orders MoM                     9\n",
       "FOMC Economic Projections                    3\n",
       "FOMC Minutes                                 8\n",
       "Fed Chair Powell Speech                      9\n",
       "Fed Chair Powell Testimony                   4\n",
       "Fed Interest Rate Decision                   5\n",
       "Fed Press Conference                         8\n",
       "GDP Growth Rate QoQ                          6\n",
       "GDP Growth Rate QoQ Adv                      3\n",
       "Goods Trade Balance                          4\n",
       "ISM Manufacturing PMI                       12\n",
       "ISM Non-Manufacturing PMI                    4\n",
       "ISM Services PMI                             8\n",
       "Inflation Rate YoY                           8\n",
       "Jackson Hole Symposium                       1\n",
       "Michigan Consumer Sentiment                 24\n",
       "Non Farm Payrolls                            7\n",
       "PCE Price Index YoY                          5\n",
       "PPI MoM                                     12\n",
       "Personal Income MoM                          3\n",
       "President Biden Speech on Banking System     1\n",
       "Retail Sales MoM                             8\n",
       "Unemployment Rate                            6\n",
       "Name: first impact, dtype: int64"
      ]
     },
     "execution_count": 4,
     "metadata": {},
     "output_type": "execute_result"
    }
   ],
   "source": [
    "group_frame = frame.groupby(\"event\")[\"first impact\"].count()\n",
    "\n",
    "group_frame"
   ]
  },
  {
   "cell_type": "code",
   "execution_count": 5,
   "metadata": {},
   "outputs": [
    {
     "data": {
      "text/html": [
       "<div>\n",
       "<style scoped>\n",
       "    .dataframe tbody tr th:only-of-type {\n",
       "        vertical-align: middle;\n",
       "    }\n",
       "\n",
       "    .dataframe tbody tr th {\n",
       "        vertical-align: top;\n",
       "    }\n",
       "\n",
       "    .dataframe thead th {\n",
       "        text-align: right;\n",
       "    }\n",
       "</style>\n",
       "<table border=\"1\" class=\"dataframe\">\n",
       "  <thead>\n",
       "    <tr style=\"text-align: right;\">\n",
       "      <th></th>\n",
       "      <th>currency</th>\n",
       "      <th>impact</th>\n",
       "      <th>actual</th>\n",
       "      <th>estimate</th>\n",
       "      <th>event</th>\n",
       "      <th>deviation</th>\n",
       "      <th>price now open</th>\n",
       "      <th>price now close</th>\n",
       "      <th>price 5min</th>\n",
       "      <th>price 10min</th>\n",
       "      <th>price 30min</th>\n",
       "      <th>original impact</th>\n",
       "      <th>first impact</th>\n",
       "      <th>second impact</th>\n",
       "      <th>third impact</th>\n",
       "    </tr>\n",
       "    <tr>\n",
       "      <th>timestamp</th>\n",
       "      <th></th>\n",
       "      <th></th>\n",
       "      <th></th>\n",
       "      <th></th>\n",
       "      <th></th>\n",
       "      <th></th>\n",
       "      <th></th>\n",
       "      <th></th>\n",
       "      <th></th>\n",
       "      <th></th>\n",
       "      <th></th>\n",
       "      <th></th>\n",
       "      <th></th>\n",
       "      <th></th>\n",
       "      <th></th>\n",
       "    </tr>\n",
       "  </thead>\n",
       "  <tbody>\n",
       "    <tr>\n",
       "      <th>2023-12-13 13:30:00+00:00</th>\n",
       "      <td>USD</td>\n",
       "      <td>High</td>\n",
       "      <td>0.0</td>\n",
       "      <td>0.1</td>\n",
       "      <td>PPI MoM</td>\n",
       "      <td>-1.000000</td>\n",
       "      <td>1.07860</td>\n",
       "      <td>1.07863</td>\n",
       "      <td>1.07862</td>\n",
       "      <td>1.07846</td>\n",
       "      <td>1.07873</td>\n",
       "      <td>0.278138</td>\n",
       "      <td>-0.092710</td>\n",
       "      <td>-1.576073</td>\n",
       "      <td>0.927102</td>\n",
       "    </tr>\n",
       "    <tr>\n",
       "      <th>2023-11-15 13:30:00+00:00</th>\n",
       "      <td>USD</td>\n",
       "      <td>High</td>\n",
       "      <td>-0.5</td>\n",
       "      <td>0.1</td>\n",
       "      <td>PPI MoM</td>\n",
       "      <td>-6.000000</td>\n",
       "      <td>1.08525</td>\n",
       "      <td>1.08538</td>\n",
       "      <td>1.08471</td>\n",
       "      <td>1.08471</td>\n",
       "      <td>1.08518</td>\n",
       "      <td>1.197881</td>\n",
       "      <td>-6.172953</td>\n",
       "      <td>-6.172953</td>\n",
       "      <td>-1.842673</td>\n",
       "    </tr>\n",
       "    <tr>\n",
       "      <th>2023-10-11 12:30:00+00:00</th>\n",
       "      <td>USD</td>\n",
       "      <td>High</td>\n",
       "      <td>0.5</td>\n",
       "      <td>0.3</td>\n",
       "      <td>PPI MoM</td>\n",
       "      <td>0.666667</td>\n",
       "      <td>1.06086</td>\n",
       "      <td>1.06104</td>\n",
       "      <td>1.06093</td>\n",
       "      <td>1.06111</td>\n",
       "      <td>1.05953</td>\n",
       "      <td>1.696737</td>\n",
       "      <td>-1.036719</td>\n",
       "      <td>0.659730</td>\n",
       "      <td>-14.231320</td>\n",
       "    </tr>\n",
       "    <tr>\n",
       "      <th>2023-09-14 12:30:00+00:00</th>\n",
       "      <td>USD</td>\n",
       "      <td>High</td>\n",
       "      <td>0.7</td>\n",
       "      <td>0.4</td>\n",
       "      <td>PPI MoM</td>\n",
       "      <td>0.750000</td>\n",
       "      <td>1.07394</td>\n",
       "      <td>1.07401</td>\n",
       "      <td>1.07389</td>\n",
       "      <td>1.07369</td>\n",
       "      <td>1.07359</td>\n",
       "      <td>0.651806</td>\n",
       "      <td>-1.117308</td>\n",
       "      <td>-2.979488</td>\n",
       "      <td>-3.910578</td>\n",
       "    </tr>\n",
       "    <tr>\n",
       "      <th>2023-08-11 12:30:00+00:00</th>\n",
       "      <td>USD</td>\n",
       "      <td>High</td>\n",
       "      <td>0.3</td>\n",
       "      <td>0.2</td>\n",
       "      <td>PPI MoM</td>\n",
       "      <td>0.500000</td>\n",
       "      <td>1.09960</td>\n",
       "      <td>1.09948</td>\n",
       "      <td>1.09975</td>\n",
       "      <td>1.09970</td>\n",
       "      <td>1.09913</td>\n",
       "      <td>-1.091306</td>\n",
       "      <td>2.455706</td>\n",
       "      <td>2.000946</td>\n",
       "      <td>-3.183323</td>\n",
       "    </tr>\n",
       "    <tr>\n",
       "      <th>2023-07-13 12:30:00+00:00</th>\n",
       "      <td>USD</td>\n",
       "      <td>High</td>\n",
       "      <td>0.1</td>\n",
       "      <td>0.2</td>\n",
       "      <td>PPI MoM</td>\n",
       "      <td>-0.500000</td>\n",
       "      <td>1.11410</td>\n",
       "      <td>1.11394</td>\n",
       "      <td>1.11410</td>\n",
       "      <td>1.11416</td>\n",
       "      <td>1.11555</td>\n",
       "      <td>-1.436137</td>\n",
       "      <td>1.436343</td>\n",
       "      <td>1.974972</td>\n",
       "      <td>14.453202</td>\n",
       "    </tr>\n",
       "    <tr>\n",
       "      <th>2023-06-14 16:30:00+00:00</th>\n",
       "      <td>USD</td>\n",
       "      <td>High</td>\n",
       "      <td>-0.3</td>\n",
       "      <td>-0.1</td>\n",
       "      <td>PPI MoM</td>\n",
       "      <td>2.000000</td>\n",
       "      <td>1.08058</td>\n",
       "      <td>1.08057</td>\n",
       "      <td>1.08060</td>\n",
       "      <td>1.08037</td>\n",
       "      <td>1.08043</td>\n",
       "      <td>-0.092543</td>\n",
       "      <td>0.277631</td>\n",
       "      <td>-1.850875</td>\n",
       "      <td>-1.295613</td>\n",
       "    </tr>\n",
       "    <tr>\n",
       "      <th>2023-05-11 16:30:00+00:00</th>\n",
       "      <td>USD</td>\n",
       "      <td>High</td>\n",
       "      <td>0.2</td>\n",
       "      <td>0.3</td>\n",
       "      <td>PPI MoM</td>\n",
       "      <td>-0.333333</td>\n",
       "      <td>1.09339</td>\n",
       "      <td>1.09346</td>\n",
       "      <td>1.09335</td>\n",
       "      <td>1.09297</td>\n",
       "      <td>1.09314</td>\n",
       "      <td>0.640211</td>\n",
       "      <td>-1.005981</td>\n",
       "      <td>-4.481188</td>\n",
       "      <td>-2.926490</td>\n",
       "    </tr>\n",
       "    <tr>\n",
       "      <th>2023-04-13 16:30:00+00:00</th>\n",
       "      <td>USD</td>\n",
       "      <td>High</td>\n",
       "      <td>-0.5</td>\n",
       "      <td>0.0</td>\n",
       "      <td>PPI MoM</td>\n",
       "      <td>-inf</td>\n",
       "      <td>1.10162</td>\n",
       "      <td>1.10174</td>\n",
       "      <td>1.10153</td>\n",
       "      <td>1.10154</td>\n",
       "      <td>1.10084</td>\n",
       "      <td>1.089305</td>\n",
       "      <td>-1.906076</td>\n",
       "      <td>-1.815310</td>\n",
       "      <td>-8.168896</td>\n",
       "    </tr>\n",
       "    <tr>\n",
       "      <th>2023-03-15 16:30:00+00:00</th>\n",
       "      <td>USD</td>\n",
       "      <td>High</td>\n",
       "      <td>-0.1</td>\n",
       "      <td>0.3</td>\n",
       "      <td>PPI MoM</td>\n",
       "      <td>-1.333333</td>\n",
       "      <td>1.05744</td>\n",
       "      <td>1.05791</td>\n",
       "      <td>1.05818</td>\n",
       "      <td>1.05731</td>\n",
       "      <td>1.05569</td>\n",
       "      <td>4.444697</td>\n",
       "      <td>2.552202</td>\n",
       "      <td>-5.671560</td>\n",
       "      <td>-20.984772</td>\n",
       "    </tr>\n",
       "    <tr>\n",
       "      <th>2023-02-16 18:30:00+00:00</th>\n",
       "      <td>USD</td>\n",
       "      <td>High</td>\n",
       "      <td>0.7</td>\n",
       "      <td>0.4</td>\n",
       "      <td>PPI MoM</td>\n",
       "      <td>0.750000</td>\n",
       "      <td>1.06649</td>\n",
       "      <td>1.06700</td>\n",
       "      <td>1.06680</td>\n",
       "      <td>1.06739</td>\n",
       "      <td>1.06623</td>\n",
       "      <td>4.782042</td>\n",
       "      <td>-1.874414</td>\n",
       "      <td>3.655108</td>\n",
       "      <td>-7.216495</td>\n",
       "    </tr>\n",
       "    <tr>\n",
       "      <th>2023-01-18 13:30:00+00:00</th>\n",
       "      <td>USD</td>\n",
       "      <td>High</td>\n",
       "      <td>-0.5</td>\n",
       "      <td>-0.1</td>\n",
       "      <td>PPI MoM</td>\n",
       "      <td>4.000000</td>\n",
       "      <td>1.08530</td>\n",
       "      <td>1.08533</td>\n",
       "      <td>1.08541</td>\n",
       "      <td>1.08547</td>\n",
       "      <td>1.08647</td>\n",
       "      <td>0.276421</td>\n",
       "      <td>0.737103</td>\n",
       "      <td>1.289930</td>\n",
       "      <td>10.503718</td>\n",
       "    </tr>\n",
       "  </tbody>\n",
       "</table>\n",
       "</div>"
      ],
      "text/plain": [
       "                          currency impact  actual  estimate    event  \\\n",
       "timestamp                                                              \n",
       "2023-12-13 13:30:00+00:00      USD   High     0.0       0.1  PPI MoM   \n",
       "2023-11-15 13:30:00+00:00      USD   High    -0.5       0.1  PPI MoM   \n",
       "2023-10-11 12:30:00+00:00      USD   High     0.5       0.3  PPI MoM   \n",
       "2023-09-14 12:30:00+00:00      USD   High     0.7       0.4  PPI MoM   \n",
       "2023-08-11 12:30:00+00:00      USD   High     0.3       0.2  PPI MoM   \n",
       "2023-07-13 12:30:00+00:00      USD   High     0.1       0.2  PPI MoM   \n",
       "2023-06-14 16:30:00+00:00      USD   High    -0.3      -0.1  PPI MoM   \n",
       "2023-05-11 16:30:00+00:00      USD   High     0.2       0.3  PPI MoM   \n",
       "2023-04-13 16:30:00+00:00      USD   High    -0.5       0.0  PPI MoM   \n",
       "2023-03-15 16:30:00+00:00      USD   High    -0.1       0.3  PPI MoM   \n",
       "2023-02-16 18:30:00+00:00      USD   High     0.7       0.4  PPI MoM   \n",
       "2023-01-18 13:30:00+00:00      USD   High    -0.5      -0.1  PPI MoM   \n",
       "\n",
       "                           deviation  price now open  price now close  \\\n",
       "timestamp                                                               \n",
       "2023-12-13 13:30:00+00:00  -1.000000         1.07860          1.07863   \n",
       "2023-11-15 13:30:00+00:00  -6.000000         1.08525          1.08538   \n",
       "2023-10-11 12:30:00+00:00   0.666667         1.06086          1.06104   \n",
       "2023-09-14 12:30:00+00:00   0.750000         1.07394          1.07401   \n",
       "2023-08-11 12:30:00+00:00   0.500000         1.09960          1.09948   \n",
       "2023-07-13 12:30:00+00:00  -0.500000         1.11410          1.11394   \n",
       "2023-06-14 16:30:00+00:00   2.000000         1.08058          1.08057   \n",
       "2023-05-11 16:30:00+00:00  -0.333333         1.09339          1.09346   \n",
       "2023-04-13 16:30:00+00:00       -inf         1.10162          1.10174   \n",
       "2023-03-15 16:30:00+00:00  -1.333333         1.05744          1.05791   \n",
       "2023-02-16 18:30:00+00:00   0.750000         1.06649          1.06700   \n",
       "2023-01-18 13:30:00+00:00   4.000000         1.08530          1.08533   \n",
       "\n",
       "                           price 5min  price 10min  price 30min  \\\n",
       "timestamp                                                         \n",
       "2023-12-13 13:30:00+00:00     1.07862      1.07846      1.07873   \n",
       "2023-11-15 13:30:00+00:00     1.08471      1.08471      1.08518   \n",
       "2023-10-11 12:30:00+00:00     1.06093      1.06111      1.05953   \n",
       "2023-09-14 12:30:00+00:00     1.07389      1.07369      1.07359   \n",
       "2023-08-11 12:30:00+00:00     1.09975      1.09970      1.09913   \n",
       "2023-07-13 12:30:00+00:00     1.11410      1.11416      1.11555   \n",
       "2023-06-14 16:30:00+00:00     1.08060      1.08037      1.08043   \n",
       "2023-05-11 16:30:00+00:00     1.09335      1.09297      1.09314   \n",
       "2023-04-13 16:30:00+00:00     1.10153      1.10154      1.10084   \n",
       "2023-03-15 16:30:00+00:00     1.05818      1.05731      1.05569   \n",
       "2023-02-16 18:30:00+00:00     1.06680      1.06739      1.06623   \n",
       "2023-01-18 13:30:00+00:00     1.08541      1.08547      1.08647   \n",
       "\n",
       "                           original impact  first impact  second impact  \\\n",
       "timestamp                                                                 \n",
       "2023-12-13 13:30:00+00:00         0.278138     -0.092710      -1.576073   \n",
       "2023-11-15 13:30:00+00:00         1.197881     -6.172953      -6.172953   \n",
       "2023-10-11 12:30:00+00:00         1.696737     -1.036719       0.659730   \n",
       "2023-09-14 12:30:00+00:00         0.651806     -1.117308      -2.979488   \n",
       "2023-08-11 12:30:00+00:00        -1.091306      2.455706       2.000946   \n",
       "2023-07-13 12:30:00+00:00        -1.436137      1.436343       1.974972   \n",
       "2023-06-14 16:30:00+00:00        -0.092543      0.277631      -1.850875   \n",
       "2023-05-11 16:30:00+00:00         0.640211     -1.005981      -4.481188   \n",
       "2023-04-13 16:30:00+00:00         1.089305     -1.906076      -1.815310   \n",
       "2023-03-15 16:30:00+00:00         4.444697      2.552202      -5.671560   \n",
       "2023-02-16 18:30:00+00:00         4.782042     -1.874414       3.655108   \n",
       "2023-01-18 13:30:00+00:00         0.276421      0.737103       1.289930   \n",
       "\n",
       "                           third impact  \n",
       "timestamp                                \n",
       "2023-12-13 13:30:00+00:00      0.927102  \n",
       "2023-11-15 13:30:00+00:00     -1.842673  \n",
       "2023-10-11 12:30:00+00:00    -14.231320  \n",
       "2023-09-14 12:30:00+00:00     -3.910578  \n",
       "2023-08-11 12:30:00+00:00     -3.183323  \n",
       "2023-07-13 12:30:00+00:00     14.453202  \n",
       "2023-06-14 16:30:00+00:00     -1.295613  \n",
       "2023-05-11 16:30:00+00:00     -2.926490  \n",
       "2023-04-13 16:30:00+00:00     -8.168896  \n",
       "2023-03-15 16:30:00+00:00    -20.984772  \n",
       "2023-02-16 18:30:00+00:00     -7.216495  \n",
       "2023-01-18 13:30:00+00:00     10.503718  "
      ]
     },
     "execution_count": 5,
     "metadata": {},
     "output_type": "execute_result"
    }
   ],
   "source": [
    "grouped = frame.groupby(\"event\")\n",
    "group = grouped.get_group(\"PPI MoM\")\n",
    "\n",
    "group"
   ]
  },
  {
   "cell_type": "code",
   "execution_count": 10,
   "metadata": {},
   "outputs": [
    {
     "data": {
      "application/vnd.plotly.v1+json": {
       "config": {
        "plotlyServerURL": "https://plot.ly"
       },
       "data": [
        {
         "hovertemplate": "variable=original impact<br>deviation=%{x}<br>value=%{y}<extra></extra>",
         "legendgroup": "original impact",
         "marker": {
          "color": "#636efa",
          "symbol": "circle"
         },
         "mode": "markers",
         "name": "original impact",
         "orientation": "v",
         "showlegend": true,
         "type": "scatter",
         "x": [
          -1,
          -5.999999999999999,
          0.6666666666666667,
          0.7499999999999998,
          0.4999999999999999,
          -0.5,
          1.9999999999999998,
          -0.33333333333333326,
          null,
          -1.3333333333333335,
          0.7499999999999998,
          4
         ],
         "xaxis": "x",
         "y": [
          0.2781383274612877,
          1.1978806726557334,
          1.696736609920904,
          0.6518055012385655,
          -1.0913059294279555,
          -1.436136792030877,
          -0.09254289363180432,
          0.6402107207859454,
          1.0893048419590963,
          4.444696625813005,
          4.782042025710607,
          0.27642126600916334
         ],
         "yaxis": "y"
        },
        {
         "hovertemplate": "variable=first impact<br>deviation=%{x}<br>value=%{y}<extra></extra>",
         "legendgroup": "first impact",
         "marker": {
          "color": "#EF553B",
          "symbol": "circle"
         },
         "mode": "markers",
         "name": "first impact",
         "orientation": "v",
         "showlegend": true,
         "type": "scatter",
         "x": [
          -1,
          -5.999999999999999,
          0.6666666666666667,
          0.7499999999999998,
          0.4999999999999999,
          -0.5,
          1.9999999999999998,
          -0.33333333333333326,
          null,
          -1.3333333333333335,
          0.7499999999999998,
          4
         ],
         "xaxis": "x",
         "y": [
          -0.0927101971951968,
          -6.172953251395349,
          -1.0367186910960426,
          -1.1173080325127138,
          2.455706333903231,
          1.4363430705438356,
          0.27763125017328344,
          -1.0059810143951722,
          -1.9060758436658694,
          2.5522019831553955,
          -1.87441424554806,
          0.7371030009313297
         ],
         "yaxis": "y"
        },
        {
         "hovertemplate": "variable=second impact<br>deviation=%{x}<br>value=%{y}<extra></extra>",
         "legendgroup": "second impact",
         "marker": {
          "color": "#00cc96",
          "symbol": "circle"
         },
         "mode": "markers",
         "name": "second impact",
         "orientation": "v",
         "showlegend": true,
         "type": "scatter",
         "x": [
          -1,
          -5.999999999999999,
          0.6666666666666667,
          0.7499999999999998,
          0.4999999999999999,
          -0.5,
          1.9999999999999998,
          -0.33333333333333326,
          null,
          -1.3333333333333335,
          0.7499999999999998,
          4
         ],
         "xaxis": "x",
         "y": [
          -1.5760733523080526,
          -6.172953251395349,
          0.6597300761518369,
          -2.9794880867019486,
          2.000945901697957,
          1.9749717219967773,
          -1.8508750011565929,
          -4.481188155031747,
          -1.8153103273002522,
          -5.6715599625670805,
          3.655107778820174,
          1.2899302516288043
         ],
         "yaxis": "y"
        },
        {
         "hovertemplate": "variable=third impact<br>deviation=%{x}<br>value=%{y}<extra></extra>",
         "legendgroup": "third impact",
         "marker": {
          "color": "#ab63fa",
          "symbol": "circle"
         },
         "mode": "markers",
         "name": "third impact",
         "orientation": "v",
         "showlegend": true,
         "type": "scatter",
         "x": [
          -1,
          -5.999999999999999,
          0.6666666666666667,
          0.7499999999999998,
          0.4999999999999999,
          -0.5,
          1.9999999999999998,
          -0.33333333333333326,
          null,
          -1.3333333333333335,
          0.7499999999999998,
          4
         ],
         "xaxis": "x",
         "y": [
          0.9271019719457922,
          -1.8426726123567596,
          -14.231320214128594,
          -3.910578113796566,
          -3.1833230254308624,
          14.45320214733389,
          -1.295612500810026,
          -2.9264902236944925,
          -8.168896472851136,
          -20.984771861499457,
          -7.216494845360238,
          10.503717763262243
         ],
         "yaxis": "y"
        }
       ],
       "layout": {
        "legend": {
         "title": {
          "text": "variable"
         },
         "tracegroupgap": 0
        },
        "margin": {
         "t": 60
        },
        "template": {
         "data": {
          "bar": [
           {
            "error_x": {
             "color": "#2a3f5f"
            },
            "error_y": {
             "color": "#2a3f5f"
            },
            "marker": {
             "line": {
              "color": "#E5ECF6",
              "width": 0.5
             },
             "pattern": {
              "fillmode": "overlay",
              "size": 10,
              "solidity": 0.2
             }
            },
            "type": "bar"
           }
          ],
          "barpolar": [
           {
            "marker": {
             "line": {
              "color": "#E5ECF6",
              "width": 0.5
             },
             "pattern": {
              "fillmode": "overlay",
              "size": 10,
              "solidity": 0.2
             }
            },
            "type": "barpolar"
           }
          ],
          "carpet": [
           {
            "aaxis": {
             "endlinecolor": "#2a3f5f",
             "gridcolor": "white",
             "linecolor": "white",
             "minorgridcolor": "white",
             "startlinecolor": "#2a3f5f"
            },
            "baxis": {
             "endlinecolor": "#2a3f5f",
             "gridcolor": "white",
             "linecolor": "white",
             "minorgridcolor": "white",
             "startlinecolor": "#2a3f5f"
            },
            "type": "carpet"
           }
          ],
          "choropleth": [
           {
            "colorbar": {
             "outlinewidth": 0,
             "ticks": ""
            },
            "type": "choropleth"
           }
          ],
          "contour": [
           {
            "colorbar": {
             "outlinewidth": 0,
             "ticks": ""
            },
            "colorscale": [
             [
              0,
              "#0d0887"
             ],
             [
              0.1111111111111111,
              "#46039f"
             ],
             [
              0.2222222222222222,
              "#7201a8"
             ],
             [
              0.3333333333333333,
              "#9c179e"
             ],
             [
              0.4444444444444444,
              "#bd3786"
             ],
             [
              0.5555555555555556,
              "#d8576b"
             ],
             [
              0.6666666666666666,
              "#ed7953"
             ],
             [
              0.7777777777777778,
              "#fb9f3a"
             ],
             [
              0.8888888888888888,
              "#fdca26"
             ],
             [
              1,
              "#f0f921"
             ]
            ],
            "type": "contour"
           }
          ],
          "contourcarpet": [
           {
            "colorbar": {
             "outlinewidth": 0,
             "ticks": ""
            },
            "type": "contourcarpet"
           }
          ],
          "heatmap": [
           {
            "colorbar": {
             "outlinewidth": 0,
             "ticks": ""
            },
            "colorscale": [
             [
              0,
              "#0d0887"
             ],
             [
              0.1111111111111111,
              "#46039f"
             ],
             [
              0.2222222222222222,
              "#7201a8"
             ],
             [
              0.3333333333333333,
              "#9c179e"
             ],
             [
              0.4444444444444444,
              "#bd3786"
             ],
             [
              0.5555555555555556,
              "#d8576b"
             ],
             [
              0.6666666666666666,
              "#ed7953"
             ],
             [
              0.7777777777777778,
              "#fb9f3a"
             ],
             [
              0.8888888888888888,
              "#fdca26"
             ],
             [
              1,
              "#f0f921"
             ]
            ],
            "type": "heatmap"
           }
          ],
          "heatmapgl": [
           {
            "colorbar": {
             "outlinewidth": 0,
             "ticks": ""
            },
            "colorscale": [
             [
              0,
              "#0d0887"
             ],
             [
              0.1111111111111111,
              "#46039f"
             ],
             [
              0.2222222222222222,
              "#7201a8"
             ],
             [
              0.3333333333333333,
              "#9c179e"
             ],
             [
              0.4444444444444444,
              "#bd3786"
             ],
             [
              0.5555555555555556,
              "#d8576b"
             ],
             [
              0.6666666666666666,
              "#ed7953"
             ],
             [
              0.7777777777777778,
              "#fb9f3a"
             ],
             [
              0.8888888888888888,
              "#fdca26"
             ],
             [
              1,
              "#f0f921"
             ]
            ],
            "type": "heatmapgl"
           }
          ],
          "histogram": [
           {
            "marker": {
             "pattern": {
              "fillmode": "overlay",
              "size": 10,
              "solidity": 0.2
             }
            },
            "type": "histogram"
           }
          ],
          "histogram2d": [
           {
            "colorbar": {
             "outlinewidth": 0,
             "ticks": ""
            },
            "colorscale": [
             [
              0,
              "#0d0887"
             ],
             [
              0.1111111111111111,
              "#46039f"
             ],
             [
              0.2222222222222222,
              "#7201a8"
             ],
             [
              0.3333333333333333,
              "#9c179e"
             ],
             [
              0.4444444444444444,
              "#bd3786"
             ],
             [
              0.5555555555555556,
              "#d8576b"
             ],
             [
              0.6666666666666666,
              "#ed7953"
             ],
             [
              0.7777777777777778,
              "#fb9f3a"
             ],
             [
              0.8888888888888888,
              "#fdca26"
             ],
             [
              1,
              "#f0f921"
             ]
            ],
            "type": "histogram2d"
           }
          ],
          "histogram2dcontour": [
           {
            "colorbar": {
             "outlinewidth": 0,
             "ticks": ""
            },
            "colorscale": [
             [
              0,
              "#0d0887"
             ],
             [
              0.1111111111111111,
              "#46039f"
             ],
             [
              0.2222222222222222,
              "#7201a8"
             ],
             [
              0.3333333333333333,
              "#9c179e"
             ],
             [
              0.4444444444444444,
              "#bd3786"
             ],
             [
              0.5555555555555556,
              "#d8576b"
             ],
             [
              0.6666666666666666,
              "#ed7953"
             ],
             [
              0.7777777777777778,
              "#fb9f3a"
             ],
             [
              0.8888888888888888,
              "#fdca26"
             ],
             [
              1,
              "#f0f921"
             ]
            ],
            "type": "histogram2dcontour"
           }
          ],
          "mesh3d": [
           {
            "colorbar": {
             "outlinewidth": 0,
             "ticks": ""
            },
            "type": "mesh3d"
           }
          ],
          "parcoords": [
           {
            "line": {
             "colorbar": {
              "outlinewidth": 0,
              "ticks": ""
             }
            },
            "type": "parcoords"
           }
          ],
          "pie": [
           {
            "automargin": true,
            "type": "pie"
           }
          ],
          "scatter": [
           {
            "fillpattern": {
             "fillmode": "overlay",
             "size": 10,
             "solidity": 0.2
            },
            "type": "scatter"
           }
          ],
          "scatter3d": [
           {
            "line": {
             "colorbar": {
              "outlinewidth": 0,
              "ticks": ""
             }
            },
            "marker": {
             "colorbar": {
              "outlinewidth": 0,
              "ticks": ""
             }
            },
            "type": "scatter3d"
           }
          ],
          "scattercarpet": [
           {
            "marker": {
             "colorbar": {
              "outlinewidth": 0,
              "ticks": ""
             }
            },
            "type": "scattercarpet"
           }
          ],
          "scattergeo": [
           {
            "marker": {
             "colorbar": {
              "outlinewidth": 0,
              "ticks": ""
             }
            },
            "type": "scattergeo"
           }
          ],
          "scattergl": [
           {
            "marker": {
             "colorbar": {
              "outlinewidth": 0,
              "ticks": ""
             }
            },
            "type": "scattergl"
           }
          ],
          "scattermapbox": [
           {
            "marker": {
             "colorbar": {
              "outlinewidth": 0,
              "ticks": ""
             }
            },
            "type": "scattermapbox"
           }
          ],
          "scatterpolar": [
           {
            "marker": {
             "colorbar": {
              "outlinewidth": 0,
              "ticks": ""
             }
            },
            "type": "scatterpolar"
           }
          ],
          "scatterpolargl": [
           {
            "marker": {
             "colorbar": {
              "outlinewidth": 0,
              "ticks": ""
             }
            },
            "type": "scatterpolargl"
           }
          ],
          "scatterternary": [
           {
            "marker": {
             "colorbar": {
              "outlinewidth": 0,
              "ticks": ""
             }
            },
            "type": "scatterternary"
           }
          ],
          "surface": [
           {
            "colorbar": {
             "outlinewidth": 0,
             "ticks": ""
            },
            "colorscale": [
             [
              0,
              "#0d0887"
             ],
             [
              0.1111111111111111,
              "#46039f"
             ],
             [
              0.2222222222222222,
              "#7201a8"
             ],
             [
              0.3333333333333333,
              "#9c179e"
             ],
             [
              0.4444444444444444,
              "#bd3786"
             ],
             [
              0.5555555555555556,
              "#d8576b"
             ],
             [
              0.6666666666666666,
              "#ed7953"
             ],
             [
              0.7777777777777778,
              "#fb9f3a"
             ],
             [
              0.8888888888888888,
              "#fdca26"
             ],
             [
              1,
              "#f0f921"
             ]
            ],
            "type": "surface"
           }
          ],
          "table": [
           {
            "cells": {
             "fill": {
              "color": "#EBF0F8"
             },
             "line": {
              "color": "white"
             }
            },
            "header": {
             "fill": {
              "color": "#C8D4E3"
             },
             "line": {
              "color": "white"
             }
            },
            "type": "table"
           }
          ]
         },
         "layout": {
          "annotationdefaults": {
           "arrowcolor": "#2a3f5f",
           "arrowhead": 0,
           "arrowwidth": 1
          },
          "autotypenumbers": "strict",
          "coloraxis": {
           "colorbar": {
            "outlinewidth": 0,
            "ticks": ""
           }
          },
          "colorscale": {
           "diverging": [
            [
             0,
             "#8e0152"
            ],
            [
             0.1,
             "#c51b7d"
            ],
            [
             0.2,
             "#de77ae"
            ],
            [
             0.3,
             "#f1b6da"
            ],
            [
             0.4,
             "#fde0ef"
            ],
            [
             0.5,
             "#f7f7f7"
            ],
            [
             0.6,
             "#e6f5d0"
            ],
            [
             0.7,
             "#b8e186"
            ],
            [
             0.8,
             "#7fbc41"
            ],
            [
             0.9,
             "#4d9221"
            ],
            [
             1,
             "#276419"
            ]
           ],
           "sequential": [
            [
             0,
             "#0d0887"
            ],
            [
             0.1111111111111111,
             "#46039f"
            ],
            [
             0.2222222222222222,
             "#7201a8"
            ],
            [
             0.3333333333333333,
             "#9c179e"
            ],
            [
             0.4444444444444444,
             "#bd3786"
            ],
            [
             0.5555555555555556,
             "#d8576b"
            ],
            [
             0.6666666666666666,
             "#ed7953"
            ],
            [
             0.7777777777777778,
             "#fb9f3a"
            ],
            [
             0.8888888888888888,
             "#fdca26"
            ],
            [
             1,
             "#f0f921"
            ]
           ],
           "sequentialminus": [
            [
             0,
             "#0d0887"
            ],
            [
             0.1111111111111111,
             "#46039f"
            ],
            [
             0.2222222222222222,
             "#7201a8"
            ],
            [
             0.3333333333333333,
             "#9c179e"
            ],
            [
             0.4444444444444444,
             "#bd3786"
            ],
            [
             0.5555555555555556,
             "#d8576b"
            ],
            [
             0.6666666666666666,
             "#ed7953"
            ],
            [
             0.7777777777777778,
             "#fb9f3a"
            ],
            [
             0.8888888888888888,
             "#fdca26"
            ],
            [
             1,
             "#f0f921"
            ]
           ]
          },
          "colorway": [
           "#636efa",
           "#EF553B",
           "#00cc96",
           "#ab63fa",
           "#FFA15A",
           "#19d3f3",
           "#FF6692",
           "#B6E880",
           "#FF97FF",
           "#FECB52"
          ],
          "font": {
           "color": "#2a3f5f"
          },
          "geo": {
           "bgcolor": "white",
           "lakecolor": "white",
           "landcolor": "#E5ECF6",
           "showlakes": true,
           "showland": true,
           "subunitcolor": "white"
          },
          "hoverlabel": {
           "align": "left"
          },
          "hovermode": "closest",
          "mapbox": {
           "style": "light"
          },
          "paper_bgcolor": "white",
          "plot_bgcolor": "#E5ECF6",
          "polar": {
           "angularaxis": {
            "gridcolor": "white",
            "linecolor": "white",
            "ticks": ""
           },
           "bgcolor": "#E5ECF6",
           "radialaxis": {
            "gridcolor": "white",
            "linecolor": "white",
            "ticks": ""
           }
          },
          "scene": {
           "xaxis": {
            "backgroundcolor": "#E5ECF6",
            "gridcolor": "white",
            "gridwidth": 2,
            "linecolor": "white",
            "showbackground": true,
            "ticks": "",
            "zerolinecolor": "white"
           },
           "yaxis": {
            "backgroundcolor": "#E5ECF6",
            "gridcolor": "white",
            "gridwidth": 2,
            "linecolor": "white",
            "showbackground": true,
            "ticks": "",
            "zerolinecolor": "white"
           },
           "zaxis": {
            "backgroundcolor": "#E5ECF6",
            "gridcolor": "white",
            "gridwidth": 2,
            "linecolor": "white",
            "showbackground": true,
            "ticks": "",
            "zerolinecolor": "white"
           }
          },
          "shapedefaults": {
           "line": {
            "color": "#2a3f5f"
           }
          },
          "ternary": {
           "aaxis": {
            "gridcolor": "white",
            "linecolor": "white",
            "ticks": ""
           },
           "baxis": {
            "gridcolor": "white",
            "linecolor": "white",
            "ticks": ""
           },
           "bgcolor": "#E5ECF6",
           "caxis": {
            "gridcolor": "white",
            "linecolor": "white",
            "ticks": ""
           }
          },
          "title": {
           "x": 0.05
          },
          "xaxis": {
           "automargin": true,
           "gridcolor": "white",
           "linecolor": "white",
           "ticks": "",
           "title": {
            "standoff": 15
           },
           "zerolinecolor": "white",
           "zerolinewidth": 2
          },
          "yaxis": {
           "automargin": true,
           "gridcolor": "white",
           "linecolor": "white",
           "ticks": "",
           "title": {
            "standoff": 15
           },
           "zerolinecolor": "white",
           "zerolinewidth": 2
          }
         }
        },
        "xaxis": {
         "anchor": "y",
         "domain": [
          0,
          1
         ],
         "title": {
          "text": "deviation"
         }
        },
        "yaxis": {
         "anchor": "x",
         "domain": [
          0,
          1
         ],
         "title": {
          "text": "value"
         }
        }
       }
      }
     },
     "metadata": {},
     "output_type": "display_data"
    }
   ],
   "source": [
    "fig = px.scatter(group , x=\"deviation\", y=[\"original impact\", \"first impact\", \"second impact\", \"third impact\"])\n",
    "fig.show()"
   ]
  },
  {
   "cell_type": "markdown",
   "metadata": {},
   "source": [
    "<h3>Regression Analysis</h3>"
   ]
  },
  {
   "cell_type": "code",
   "execution_count": 16,
   "metadata": {},
   "outputs": [],
   "source": [
    "import numpy as np\n",
    "from sklearn.linear_model import LinearRegression"
   ]
  },
  {
   "cell_type": "code",
   "execution_count": 29,
   "metadata": {},
   "outputs": [
    {
     "name": "stdout",
     "output_type": "stream",
     "text": [
      "[[-1.        ]\n",
      " [-6.        ]\n",
      " [ 0.66666667]\n",
      " [ 0.75      ]\n",
      " [ 0.5       ]\n",
      " [-0.5       ]\n",
      " [ 2.        ]\n",
      " [-0.33333333]\n",
      " [-1.33333333]\n",
      " [ 0.75      ]\n",
      " [ 4.        ]]\n",
      "[[-0.0927102 ]\n",
      " [-6.17295325]\n",
      " [-1.03671869]\n",
      " [-1.11730803]\n",
      " [ 2.45570633]\n",
      " [ 1.43634307]\n",
      " [ 0.27763125]\n",
      " [-1.00598101]\n",
      " [ 2.55220198]\n",
      " [-1.87441425]\n",
      " [ 0.737103  ]]\n",
      "coefficient of determination: 0.34095566119044496\n",
      "intercept: [-0.32310773]\n",
      "slope: [[0.57382943]]\n"
     ]
    },
    {
     "name": "stderr",
     "output_type": "stream",
     "text": [
      "/tmp/ipykernel_101572/3072523860.py:1: SettingWithCopyWarning:\n",
      "\n",
      "\n",
      "A value is trying to be set on a copy of a slice from a DataFrame\n",
      "\n",
      "See the caveats in the documentation: https://pandas.pydata.org/pandas-docs/stable/user_guide/indexing.html#returning-a-view-versus-a-copy\n",
      "\n",
      "/tmp/ipykernel_101572/3072523860.py:2: SettingWithCopyWarning:\n",
      "\n",
      "\n",
      "A value is trying to be set on a copy of a slice from a DataFrame\n",
      "\n",
      "See the caveats in the documentation: https://pandas.pydata.org/pandas-docs/stable/user_guide/indexing.html#returning-a-view-versus-a-copy\n",
      "\n"
     ]
    }
   ],
   "source": [
    "group.replace([np.inf, - np.inf], np.nan, inplace = True)\n",
    "group.dropna(inplace = True)\n",
    "x = group[\"deviation\"].values.reshape(-1, 1)\n",
    "y = group[\"original impact\"].values.reshape(-1, 1)\n",
    "print(x)\n",
    "print(y)\n",
    "\n",
    "model = LinearRegression().fit(x, y)\n",
    "\n",
    "print(f\"coefficient of determination: {model.score(x,y)}\")\n",
    "print(f\"intercept: {model.intercept_}\")\n",
    "print(f\"slope: {model.coef_}\")"
   ]
  }
 ],
 "metadata": {
  "kernelspec": {
   "display_name": "Python 3",
   "language": "python",
   "name": "python3"
  },
  "language_info": {
   "codemirror_mode": {
    "name": "ipython",
    "version": 3
   },
   "file_extension": ".py",
   "mimetype": "text/x-python",
   "name": "python",
   "nbconvert_exporter": "python",
   "pygments_lexer": "ipython3",
   "version": "3.10.13"
  }
 },
 "nbformat": 4,
 "nbformat_minor": 2
}
