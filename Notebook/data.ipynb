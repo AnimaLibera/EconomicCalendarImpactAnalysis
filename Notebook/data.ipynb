{
 "cells": [
  {
   "cell_type": "markdown",
   "metadata": {},
   "source": [
    "<h1>Data Processing</h1>"
   ]
  },
  {
   "cell_type": "markdown",
   "metadata": {},
   "source": [
    "<h3>Importpath</h3>\n",
    "\n",
    "Add Projectfolder to Importpath"
   ]
  },
  {
   "cell_type": "code",
   "execution_count": 1,
   "metadata": {},
   "outputs": [
    {
     "data": {
      "text/plain": [
       "['/home/avatar/Dokumente/Projekte/Python/EconomicCalendarImpactAnalysis/Code',\n",
       " '/home/avatar/Dokumente/Projekte/Python/EconomicCalendarImpactAnalysis/Notebook',\n",
       " '/home/avatar/.pyenv/versions/3.10.13/lib/python310.zip',\n",
       " '/home/avatar/.pyenv/versions/3.10.13/lib/python3.10',\n",
       " '/home/avatar/.pyenv/versions/3.10.13/lib/python3.10/lib-dynload',\n",
       " '',\n",
       " '/home/avatar/.local/lib/python3.10/site-packages',\n",
       " '/home/avatar/.pyenv/versions/3.10.13/lib/python3.10/site-packages']"
      ]
     },
     "execution_count": 1,
     "metadata": {},
     "output_type": "execute_result"
    }
   ],
   "source": [
    "import sys\n",
    "import os\n",
    "cwd = os.path.abspath(\".\")\n",
    "sys.path.insert(0, cwd.replace(\"Notebook\", \"Code\"))\n",
    "\n",
    "sys.path"
   ]
  },
  {
   "cell_type": "markdown",
   "metadata": {},
   "source": [
    "<h3>Imports</h3>"
   ]
  },
  {
   "cell_type": "code",
   "execution_count": 2,
   "metadata": {},
   "outputs": [],
   "source": [
    "import pandas as pd\n",
    "\n",
    "import fmp\n",
    "import influx as db"
   ]
  },
  {
   "cell_type": "markdown",
   "metadata": {},
   "source": [
    "<h3>Data Processing</h3>"
   ]
  },
  {
   "cell_type": "code",
   "execution_count": null,
   "metadata": {},
   "outputs": [],
   "source": [
    "start_date = pd.Timestamp(\"2024-01-01\")\n",
    "stop_date = pd.Timestamp(\"2024-01-07\")\n",
    "\n",
    "FMP = fmp.FinancialModelingPrep(deployment = \"linode\")\n",
    "FMP.economic_calendar_pipeline(start_date, stop_date)"
   ]
  },
  {
   "cell_type": "code",
   "execution_count": 3,
   "metadata": {},
   "outputs": [
    {
     "ename": "TypeError",
     "evalue": "InfluxDatabase.__init__() got an unexpected keyword argument 'deyployment'",
     "output_type": "error",
     "traceback": [
      "\u001b[0;31m---------------------------------------------------------------------------\u001b[0m",
      "\u001b[0;31mTypeError\u001b[0m                                 Traceback (most recent call last)",
      "Cell \u001b[0;32mIn[3], line 1\u001b[0m\n\u001b[0;32m----> 1\u001b[0m FMP \u001b[38;5;241m=\u001b[39m \u001b[43mfmp\u001b[49m\u001b[38;5;241;43m.\u001b[39;49m\u001b[43mFinancialModelingPrep\u001b[49m\u001b[43m(\u001b[49m\u001b[43mdeyployment\u001b[49m\u001b[43m \u001b[49m\u001b[38;5;241;43m=\u001b[39;49m\u001b[43m \u001b[49m\u001b[38;5;124;43m\"\u001b[39;49m\u001b[38;5;124;43mlinode\u001b[39;49m\u001b[38;5;124;43m\"\u001b[39;49m\u001b[43m)\u001b[49m\n\u001b[1;32m      2\u001b[0m FMP\u001b[38;5;241m.\u001b[39meconomic_calendar_pipeline_longrange()\n",
      "File \u001b[0;32m~/Dokumente/Projekte/Python/EconomicCalendarImpactAnalysis/Code/fmp.py:14\u001b[0m, in \u001b[0;36mFinancialModelingPrep.__init__\u001b[0;34m(self, deyployment)\u001b[0m\n\u001b[1;32m     12\u001b[0m \u001b[38;5;28;01mdef\u001b[39;00m \u001b[38;5;21m__init__\u001b[39m(\u001b[38;5;28mself\u001b[39m, deyployment \u001b[38;5;241m=\u001b[39m \u001b[38;5;124m\"\u001b[39m\u001b[38;5;124mlocal\u001b[39m\u001b[38;5;124m\"\u001b[39m):\n\u001b[1;32m     13\u001b[0m     \u001b[38;5;28mself\u001b[39m\u001b[38;5;241m.\u001b[39menvironment()\n\u001b[0;32m---> 14\u001b[0m     \u001b[38;5;28mself\u001b[39m\u001b[38;5;241m.\u001b[39mdatabase \u001b[38;5;241m=\u001b[39m \u001b[43minflux\u001b[49m\u001b[38;5;241;43m.\u001b[39;49m\u001b[43mInfluxDatabase\u001b[49m\u001b[43m(\u001b[49m\u001b[43mdeyployment\u001b[49m\u001b[43m \u001b[49m\u001b[38;5;241;43m=\u001b[39;49m\u001b[43m \u001b[49m\u001b[43mdeyployment\u001b[49m\u001b[43m)\u001b[49m\n",
      "\u001b[0;31mTypeError\u001b[0m: InfluxDatabase.__init__() got an unexpected keyword argument 'deyployment'"
     ]
    }
   ],
   "source": [
    "FMP = fmp.FinancialModelingPrep(deployment = \"linode\")\n",
    "FMP.economic_calendar_pipeline_longrange()"
   ]
  },
  {
   "cell_type": "markdown",
   "metadata": {},
   "source": [
    "<h3>Test new Configuration for InfluxDB</h3>"
   ]
  },
  {
   "cell_type": "code",
   "execution_count": null,
   "metadata": {},
   "outputs": [],
   "source": [
    "import influx as db\n",
    "\n",
    "db.InfluxDatabase()"
   ]
  },
  {
   "cell_type": "markdown",
   "metadata": {},
   "source": [
    "<h3>Data Processing: Pricedata form MetaTrader5 CSV's to InfluxDB</h3>"
   ]
  },
  {
   "cell_type": "code",
   "execution_count": null,
   "metadata": {},
   "outputs": [],
   "source": [
    "import influx\n",
    "import mt5\n",
    "\n",
    "db = influx.InfluxDatabase(deployment = \"linode\")\n",
    "mt5 = mt5.MetaTrader5()\n",
    "\n",
    "majors = [\"AUDUSD\", \"EURUSD\", \"GBPUSD\", \"NZDUSD\", \"USDCAD\", \"USDCHF\", \"USDJPY\"]\n",
    "\n",
    "major = majors[6]\n",
    "\n",
    "print(\"Step #1\")\n",
    "raw_data = mt5.load_csv_to_dataframe(file_name=f\"MetaTrader5 {major} 1MIN Full Year 2023.csv\")\n",
    "print(\"Step #2\")\n",
    "clean_data = mt5.preprocess_csv_dataframe(raw_data, symbol = major)\n",
    "\n",
    "print(clean_data)\n",
    "\n",
    "print(\"Step #3\")\n",
    "db.ingest_data(clean_data, mode=\"live\")\n"
   ]
  },
  {
   "cell_type": "markdown",
   "metadata": {},
   "source": [
    "<h3>Data Quering: InfluxDB Pricedata<h3>"
   ]
  },
  {
   "cell_type": "code",
   "execution_count": null,
   "metadata": {},
   "outputs": [],
   "source": [
    "import influx\n",
    "import pandas as pd\n",
    "\n",
    "db = influx.InfluxDatabase()\n",
    "\n",
    "majors = [\"AUDUSD\", \"EURUSD\", \"GBPUSD\", \"NZDUSD\", \"USDCAD\", \"USDCHF\", \"USDJPY\"]\n",
    "major = majors[1]\n",
    "\n",
    "time1 = pd.Timestamp(\"2023-06-23T16:12\")\n",
    "\n",
    "#AUDUSD 2023.06.23\t16:12:00\n",
    "\n",
    "data1 = db.query_data(time = time1, symbol = major, timeframe = \"1min\", source = \"MetaTrader5\")\n",
    "\n",
    "print(data1)"
   ]
  }
 ],
 "metadata": {
  "kernelspec": {
   "display_name": "Python 3",
   "language": "python",
   "name": "python3"
  },
  "language_info": {
   "codemirror_mode": {
    "name": "ipython",
    "version": 3
   },
   "file_extension": ".py",
   "mimetype": "text/x-python",
   "name": "python",
   "nbconvert_exporter": "python",
   "pygments_lexer": "ipython3",
   "version": "3.10.13"
  }
 },
 "nbformat": 4,
 "nbformat_minor": 2
}
