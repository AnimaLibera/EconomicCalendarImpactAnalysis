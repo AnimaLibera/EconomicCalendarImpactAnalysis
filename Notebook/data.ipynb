{
 "cells": [
  {
   "cell_type": "markdown",
   "metadata": {},
   "source": [
    "<h1>Data Processing</h1>"
   ]
  },
  {
   "cell_type": "markdown",
   "metadata": {},
   "source": [
    "<h3>Importpath</h3>\n",
    "\n",
    "Add Projectfolder to Importpath"
   ]
  },
  {
   "cell_type": "code",
   "execution_count": 1,
   "metadata": {},
   "outputs": [
    {
     "data": {
      "text/plain": [
       "['/home/avatar/Dokumente/Projekte/Python/EconomicCalendarImpactAnalysis/Code',\n",
       " '/home/avatar/Dokumente/Projekte/Python/EconomicCalendarImpactAnalysis/Notebook',\n",
       " '/home/avatar/.pyenv/versions/3.10.13/lib/python310.zip',\n",
       " '/home/avatar/.pyenv/versions/3.10.13/lib/python3.10',\n",
       " '/home/avatar/.pyenv/versions/3.10.13/lib/python3.10/lib-dynload',\n",
       " '',\n",
       " '/home/avatar/.local/lib/python3.10/site-packages',\n",
       " '/home/avatar/.pyenv/versions/3.10.13/lib/python3.10/site-packages']"
      ]
     },
     "execution_count": 1,
     "metadata": {},
     "output_type": "execute_result"
    }
   ],
   "source": [
    "import sys\n",
    "import os\n",
    "cwd = os.path.abspath(\".\")\n",
    "sys.path.insert(0, cwd.replace(\"Notebook\", \"Code\"))\n",
    "\n",
    "sys.path"
   ]
  },
  {
   "cell_type": "markdown",
   "metadata": {},
   "source": [
    "<h3>Imports</h3>"
   ]
  },
  {
   "cell_type": "code",
   "execution_count": null,
   "metadata": {},
   "outputs": [],
   "source": [
    "import pandas as pd\n",
    "\n",
    "import fmp\n",
    "import influx as db"
   ]
  },
  {
   "cell_type": "markdown",
   "metadata": {},
   "source": [
    "<h3>Data Processing</h3>"
   ]
  },
  {
   "cell_type": "code",
   "execution_count": null,
   "metadata": {},
   "outputs": [],
   "source": [
    "start_date = pd.Timestamp(\"2024-01-01\")\n",
    "stop_date = pd.Timestamp(\"2024-01-07\")\n",
    "\n",
    "FMP = fmp.FinancialModelingPrep(deployment = \"linode\")\n",
    "FMP.economic_calendar_pipeline(start_date, stop_date)"
   ]
  },
  {
   "cell_type": "code",
   "execution_count": null,
   "metadata": {},
   "outputs": [],
   "source": [
    "FMP = fmp.FinancialModelingPrep(deployment = \"linode\")\n",
    "FMP.economic_calendar_pipeline_longrange()"
   ]
  },
  {
   "cell_type": "markdown",
   "metadata": {},
   "source": [
    "<h3>Test new Configuration for InfluxDB</h3>"
   ]
  },
  {
   "cell_type": "code",
   "execution_count": null,
   "metadata": {},
   "outputs": [],
   "source": [
    "import influx as db\n",
    "\n",
    "db.InfluxDatabase()"
   ]
  },
  {
   "cell_type": "markdown",
   "metadata": {},
   "source": [
    "<h3>Data Processing: Pricedata form MetaTrader5 CSV's to InfluxDB</h3>"
   ]
  },
  {
   "cell_type": "code",
   "execution_count": null,
   "metadata": {},
   "outputs": [],
   "source": [
    "import influx\n",
    "import mt5\n",
    "\n",
    "db = influx.InfluxDatabase(deployment = \"linode\")\n",
    "mt5 = mt5.MetaTrader5()\n",
    "\n",
    "majors = [\"AUDUSD\", \"EURUSD\", \"GBPUSD\", \"NZDUSD\", \"USDCAD\", \"USDCHF\", \"USDJPY\"]\n",
    "\n",
    "major = majors[1]\n",
    "\n",
    "print(\"Step #1\")\n",
    "raw_data = mt5.load_csv_to_dataframe(file_name=f\"MetaTrader5 {major} 1MIN Full Year 2023.csv\")\n",
    "print(\"Step #2\")\n",
    "clean_data = mt5.preprocess_csv_dataframe(raw_data, symbol = major, timezone=\"EST\")\n",
    "\n",
    "#print(clean_data)\n",
    "\n",
    "print(\"Step #3\")\n",
    "db.ingest_data(clean_data, mode=\"live\")\n"
   ]
  },
  {
   "cell_type": "markdown",
   "metadata": {},
   "source": [
    "<h3>Data Quering: InfluxDB Pricedata<h3>"
   ]
  },
  {
   "cell_type": "code",
   "execution_count": null,
   "metadata": {},
   "outputs": [],
   "source": [
    "import influx\n",
    "import pandas as pd\n",
    "\n",
    "db = influx.InfluxDatabase()\n",
    "\n",
    "majors = [\"AUDUSD\", \"EURUSD\", \"GBPUSD\", \"NZDUSD\", \"USDCAD\", \"USDCHF\", \"USDJPY\"]\n",
    "major = majors[1]\n",
    "\n",
    "time1 = pd.Timestamp(\"2023-06-23T16:12\")\n",
    "\n",
    "#AUDUSD 2023.06.23\t16:12:00\n",
    "\n",
    "data1 = db.query_data(time = time1, symbol = major, timeframe = \"1min\", source = \"MetaTrader5\")\n",
    "\n",
    "print(data1)"
   ]
  },
  {
   "cell_type": "markdown",
   "metadata": {},
   "source": [
    "### Test Trademade API"
   ]
  },
  {
   "cell_type": "code",
   "execution_count": null,
   "metadata": {},
   "outputs": [],
   "source": [
    "import provider as pv\n",
    "import pandas as pd"
   ]
  },
  {
   "cell_type": "code",
   "execution_count": null,
   "metadata": {},
   "outputs": [],
   "source": [
    "provider = pv.Provider(deployment = \"local\")"
   ]
  },
  {
   "cell_type": "code",
   "execution_count": null,
   "metadata": {},
   "outputs": [],
   "source": [
    "timestamp = pd.Timestamp(\"2024-02-15T13:26\")\n",
    "data = provider.foreign_exchange_rate_trademade(timestamp, \"EURUSD\", \"close\")\n",
    "data"
   ]
  },
  {
   "cell_type": "markdown",
   "metadata": {},
   "source": [
    "### Data Processing: ForexTester.com"
   ]
  },
  {
   "cell_type": "code",
   "execution_count": 2,
   "metadata": {},
   "outputs": [
    {
     "ename": "NameError",
     "evalue": "name 'influx' is not defined",
     "output_type": "error",
     "traceback": [
      "\u001b[0;31m---------------------------------------------------------------------------\u001b[0m",
      "\u001b[0;31mNameError\u001b[0m                                 Traceback (most recent call last)",
      "Cell \u001b[0;32mIn[2], line 5\u001b[0m\n\u001b[1;32m      2\u001b[0m \u001b[38;5;28;01mimport\u001b[39;00m \u001b[38;5;21;01mwrangler\u001b[39;00m\n\u001b[1;32m      3\u001b[0m \u001b[38;5;28;01mimport\u001b[39;00m \u001b[38;5;21;01mpandas\u001b[39;00m \u001b[38;5;28;01mas\u001b[39;00m \u001b[38;5;21;01mpd\u001b[39;00m\n\u001b[0;32m----> 5\u001b[0m db \u001b[38;5;241m=\u001b[39m \u001b[43minflux\u001b[49m\u001b[38;5;241m.\u001b[39mInfluxDatabase(deployment \u001b[38;5;241m=\u001b[39m \u001b[38;5;124m\"\u001b[39m\u001b[38;5;124mlinode\u001b[39m\u001b[38;5;124m\"\u001b[39m)\n\u001b[1;32m      6\u001b[0m source \u001b[38;5;241m=\u001b[39m wrangler\u001b[38;5;241m.\u001b[39mForexTester()\n\u001b[1;32m      8\u001b[0m majors \u001b[38;5;241m=\u001b[39m [\u001b[38;5;124m\"\u001b[39m\u001b[38;5;124mAUDUSD\u001b[39m\u001b[38;5;124m\"\u001b[39m, \u001b[38;5;124m\"\u001b[39m\u001b[38;5;124mEURUSD\u001b[39m\u001b[38;5;124m\"\u001b[39m, \u001b[38;5;124m\"\u001b[39m\u001b[38;5;124mGBPUSD\u001b[39m\u001b[38;5;124m\"\u001b[39m, \u001b[38;5;124m\"\u001b[39m\u001b[38;5;124mNZDUSD\u001b[39m\u001b[38;5;124m\"\u001b[39m, \u001b[38;5;124m\"\u001b[39m\u001b[38;5;124mUSDCAD\u001b[39m\u001b[38;5;124m\"\u001b[39m, \u001b[38;5;124m\"\u001b[39m\u001b[38;5;124mUSDCHF\u001b[39m\u001b[38;5;124m\"\u001b[39m, \u001b[38;5;124m\"\u001b[39m\u001b[38;5;124mUSDJPY\u001b[39m\u001b[38;5;124m\"\u001b[39m]\n",
      "\u001b[0;31mNameError\u001b[0m: name 'influx' is not defined"
     ]
    }
   ],
   "source": [
    "#import influx\n",
    "import wrangler\n",
    "import pandas as pd\n",
    "\n",
    "#db = influx.InfluxDatabase(deployment = \"linode\")\n",
    "source = wrangler.ForexTester()\n",
    "\n",
    "majors = [\"AUDUSD\", \"EURUSD\", \"GBPUSD\", \"NZDUSD\", \"USDCAD\", \"USDCHF\", \"USDJPY\"]\n",
    "\n",
    "major = majors[1]\n",
    "\n",
    "source_name = \"ForexTester.com\"\n",
    "timezone = \"GMT\"\n",
    "timeframe = \"1MIN\"\n",
    "source_file_name = f\"{source_name} {major} {timeframe} {timezone} 2001-01-01 2024-01-31.txt\"\n",
    "sink_file_name = f\"{source_name} {major} {timeframe} Full Year 2023.csv\"\n",
    "start_date = pd.Timestamp(\"2023-01-01\")\n",
    "end_date = pd.Timestamp(\"2024-01-01\")\n",
    "\n",
    "\"ForexTester.com EURUSD 1MIN GMT 2001-01-01 2024-01-31.txt\"\n",
    "\"ForexTester.com EURUSD 1MIN GMT 2001-01-01 2024-01-31.txt\"\n",
    "\n",
    "print(\"Step #1 Raw Data\")\n",
    "raw_data = source.load_csv_to_dataframe(file_name=source_file_name)\n",
    "\n",
    "print(\"Step #2 Intermediate Data\")\n",
    "intermediate_data = source.process_timeframe_csv_dataframe(raw_data).loc[start_date:end_date]\n",
    "\n",
    "print(\"Step #3 Sink Data\")\n",
    "source.populate_csv_file(intermediate_data, file_name=sink_file_name)\n",
    "\n",
    "#print(\"Step #3 Clean Data\")\n",
    "#clean_data = source.preprocess_csv_dataframe(intermediate_data, symbol = major, timezone=timezone)\n",
    "\n",
    "#print(clean_data)\n",
    "\n",
    "#print(\"Step #3\")\n",
    "#db.ingest_data(clean_data, mode=\"live\")"
   ]
  }
 ],
 "metadata": {
  "kernelspec": {
   "display_name": "Python 3",
   "language": "python",
   "name": "python3"
  },
  "language_info": {
   "codemirror_mode": {
    "name": "ipython",
    "version": 3
   },
   "file_extension": ".py",
   "mimetype": "text/x-python",
   "name": "python",
   "nbconvert_exporter": "python",
   "pygments_lexer": "ipython3",
   "version": "3.10.13"
  }
 },
 "nbformat": 4,
 "nbformat_minor": 2
}
