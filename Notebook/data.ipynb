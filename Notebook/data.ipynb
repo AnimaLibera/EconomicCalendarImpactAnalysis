{
 "cells": [
  {
   "cell_type": "markdown",
   "metadata": {},
   "source": [
    "<h1>Data Processing</h1>"
   ]
  },
  {
   "cell_type": "markdown",
   "metadata": {},
   "source": [
    "<h3>Importpath</h3>\n",
    "\n",
    "Add Projectfolder to Importpath"
   ]
  },
  {
   "cell_type": "code",
   "execution_count": 1,
   "metadata": {},
   "outputs": [
    {
     "data": {
      "text/plain": [
       "['/home/avatar/Dokumente/Projekte/Python/EconomicCalendarImpactAnalysis/Code',\n",
       " '/home/avatar/Dokumente/Projekte/Python/EconomicCalendarImpactAnalysis/Notebook',\n",
       " '/home/avatar/.pyenv/versions/3.10.13/lib/python310.zip',\n",
       " '/home/avatar/.pyenv/versions/3.10.13/lib/python3.10',\n",
       " '/home/avatar/.pyenv/versions/3.10.13/lib/python3.10/lib-dynload',\n",
       " '',\n",
       " '/home/avatar/.local/lib/python3.10/site-packages',\n",
       " '/home/avatar/.pyenv/versions/3.10.13/lib/python3.10/site-packages']"
      ]
     },
     "execution_count": 1,
     "metadata": {},
     "output_type": "execute_result"
    }
   ],
   "source": [
    "import sys\n",
    "import os\n",
    "cwd = os.path.abspath(\".\")\n",
    "sys.path.insert(0, cwd.replace(\"Notebook\", \"Code\"))\n",
    "\n",
    "sys.path"
   ]
  },
  {
   "cell_type": "markdown",
   "metadata": {},
   "source": [
    "<h3>Imports</h3>"
   ]
  },
  {
   "cell_type": "code",
   "execution_count": 2,
   "metadata": {},
   "outputs": [],
   "source": [
    "import pandas as pd\n",
    "\n",
    "import fmp\n",
    "import influx as db"
   ]
  },
  {
   "cell_type": "markdown",
   "metadata": {},
   "source": [
    "<h3>Data Processing</h3>"
   ]
  },
  {
   "cell_type": "code",
   "execution_count": null,
   "metadata": {},
   "outputs": [],
   "source": [
    "start_date = pd.Timestamp(\"2024-01-01\")\n",
    "stop_date = pd.Timestamp(\"2024-01-07\")\n",
    "\n",
    "FMP = fmp.FinancialModelingPrep(deployment = \"linode\")\n",
    "FMP.economic_calendar_pipeline(start_date, stop_date)"
   ]
  },
  {
   "cell_type": "code",
   "execution_count": 3,
   "metadata": {},
   "outputs": [
    {
     "name": "stdout",
     "output_type": "stream",
     "text": [
      "Piping Economic Calendar from 2023-01-01 00:00:00 to 2023-01-31 00:00:00\n",
      "Getting Economic Calendar\n",
      "Parsing Economic Calendar\n",
      "Preprocessing Economic Calendar\n",
      "Ingesting Economic Calendar\n",
      "Counter: 1, Start at: 0, Stop at: 1721\n",
      "Piping Economic Calendar from 2023-01-31 00:00:00 to 2023-03-02 00:00:00\n",
      "Getting Economic Calendar\n",
      "Parsing Economic Calendar\n",
      "Preprocessing Economic Calendar\n",
      "Ingesting Economic Calendar\n",
      "Counter: 1, Start at: 0, Stop at: 1914\n",
      "Piping Economic Calendar from 2023-03-02 00:00:00 to 2023-04-01 00:00:00\n",
      "Getting Economic Calendar\n",
      "Parsing Economic Calendar\n",
      "Preprocessing Economic Calendar\n",
      "Ingesting Economic Calendar\n",
      "Counter: 1, Start at: 0, Stop at: 1623\n",
      "Piping Economic Calendar from 2023-04-01 00:00:00 to 2023-05-01 00:00:00\n",
      "Getting Economic Calendar\n",
      "Parsing Economic Calendar\n",
      "Preprocessing Economic Calendar\n",
      "Ingesting Economic Calendar\n",
      "Counter: 1, Start at: 0, Stop at: 1704\n",
      "Piping Economic Calendar from 2023-05-01 00:00:00 to 2023-05-31 00:00:00\n",
      "Getting Economic Calendar\n",
      "Parsing Economic Calendar\n",
      "Preprocessing Economic Calendar\n",
      "Ingesting Economic Calendar\n",
      "Counter: 1, Start at: 0, Stop at: 1773\n",
      "Piping Economic Calendar from 2023-05-31 00:00:00 to 2023-06-30 00:00:00\n",
      "Getting Economic Calendar\n",
      "Parsing Economic Calendar\n",
      "Preprocessing Economic Calendar\n",
      "Ingesting Economic Calendar\n",
      "Counter: 1, Start at: 0, Stop at: 1867\n",
      "Piping Economic Calendar from 2023-06-30 00:00:00 to 2023-07-30 00:00:00\n",
      "Getting Economic Calendar\n",
      "Parsing Economic Calendar\n",
      "Preprocessing Economic Calendar\n",
      "Ingesting Economic Calendar\n",
      "Counter: 1, Start at: 0, Stop at: 1618\n",
      "Piping Economic Calendar from 2023-07-30 00:00:00 to 2023-08-29 00:00:00\n",
      "Getting Economic Calendar\n",
      "Parsing Economic Calendar\n",
      "Preprocessing Economic Calendar\n",
      "Ingesting Economic Calendar\n",
      "Counter: 1, Start at: 0, Stop at: 1555\n",
      "Piping Economic Calendar from 2023-08-29 00:00:00 to 2023-09-28 00:00:00\n",
      "Getting Economic Calendar\n",
      "Parsing Economic Calendar\n",
      "Preprocessing Economic Calendar\n",
      "Ingesting Economic Calendar\n",
      "Counter: 1, Start at: 0, Stop at: 1873\n",
      "Piping Economic Calendar from 2023-09-28 00:00:00 to 2023-10-28 00:00:00\n",
      "Getting Economic Calendar\n",
      "Parsing Economic Calendar\n",
      "Preprocessing Economic Calendar\n",
      "Ingesting Economic Calendar\n",
      "Counter: 1, Start at: 0, Stop at: 1716\n",
      "Piping Economic Calendar from 2023-10-28 00:00:00 to 2023-11-27 00:00:00\n",
      "Getting Economic Calendar\n",
      "Parsing Economic Calendar\n",
      "Preprocessing Economic Calendar\n",
      "Ingesting Economic Calendar\n",
      "Counter: 1, Start at: 0, Stop at: 1584\n",
      "Piping Economic Calendar from 2023-11-27 00:00:00 to 2023-12-27 00:00:00\n",
      "Getting Economic Calendar\n",
      "Parsing Economic Calendar\n",
      "Preprocessing Economic Calendar\n",
      "Ingesting Economic Calendar\n",
      "Counter: 1, Start at: 0, Stop at: 1903\n",
      "Piping Economic Calendar from 2023-12-27 00:00:00 to 2024-01-01 00:00:00\n",
      "Getting Economic Calendar\n",
      "Parsing Economic Calendar\n",
      "Preprocessing Economic Calendar\n",
      "Ingesting Economic Calendar\n",
      "Counter: 1, Start at: 0, Stop at: 290\n"
     ]
    }
   ],
   "source": [
    "FMP = fmp.FinancialModelingPrep(deployment = \"linode\")\n",
    "FMP.economic_calendar_pipeline_longrange()"
   ]
  },
  {
   "cell_type": "markdown",
   "metadata": {},
   "source": [
    "<h3>Test new Configuration for InfluxDB</h3>"
   ]
  },
  {
   "cell_type": "code",
   "execution_count": null,
   "metadata": {},
   "outputs": [],
   "source": [
    "import influx as db\n",
    "\n",
    "db.InfluxDatabase()"
   ]
  },
  {
   "cell_type": "markdown",
   "metadata": {},
   "source": [
    "<h3>Data Processing: Pricedata form MetaTrader5 CSV's to InfluxDB</h3>"
   ]
  },
  {
   "cell_type": "code",
   "execution_count": null,
   "metadata": {},
   "outputs": [],
   "source": [
    "import influx\n",
    "import mt5\n",
    "\n",
    "db = influx.InfluxDatabase(deployment = \"linode\")\n",
    "mt5 = mt5.MetaTrader5()\n",
    "\n",
    "majors = [\"AUDUSD\", \"EURUSD\", \"GBPUSD\", \"NZDUSD\", \"USDCAD\", \"USDCHF\", \"USDJPY\"]\n",
    "\n",
    "major = majors[6]\n",
    "\n",
    "print(\"Step #1\")\n",
    "raw_data = mt5.load_csv_to_dataframe(file_name=f\"MetaTrader5 {major} 1MIN Full Year 2023.csv\")\n",
    "print(\"Step #2\")\n",
    "clean_data = mt5.preprocess_csv_dataframe(raw_data, symbol = major)\n",
    "\n",
    "print(clean_data)\n",
    "\n",
    "print(\"Step #3\")\n",
    "db.ingest_data(clean_data, mode=\"live\")\n"
   ]
  },
  {
   "cell_type": "markdown",
   "metadata": {},
   "source": [
    "<h3>Data Quering: InfluxDB Pricedata<h3>"
   ]
  },
  {
   "cell_type": "code",
   "execution_count": null,
   "metadata": {},
   "outputs": [],
   "source": [
    "import influx\n",
    "import pandas as pd\n",
    "\n",
    "db = influx.InfluxDatabase()\n",
    "\n",
    "majors = [\"AUDUSD\", \"EURUSD\", \"GBPUSD\", \"NZDUSD\", \"USDCAD\", \"USDCHF\", \"USDJPY\"]\n",
    "major = majors[1]\n",
    "\n",
    "time1 = pd.Timestamp(\"2023-06-23T16:12\")\n",
    "\n",
    "#AUDUSD 2023.06.23\t16:12:00\n",
    "\n",
    "data1 = db.query_data(time = time1, symbol = major, timeframe = \"1min\", source = \"MetaTrader5\")\n",
    "\n",
    "print(data1)"
   ]
  }
 ],
 "metadata": {
  "kernelspec": {
   "display_name": "Python 3",
   "language": "python",
   "name": "python3"
  },
  "language_info": {
   "codemirror_mode": {
    "name": "ipython",
    "version": 3
   },
   "file_extension": ".py",
   "mimetype": "text/x-python",
   "name": "python",
   "nbconvert_exporter": "python",
   "pygments_lexer": "ipython3",
   "version": "3.10.13"
  }
 },
 "nbformat": 4,
 "nbformat_minor": 2
}
